{
 "cells": [
  {
   "cell_type": "markdown",
   "metadata": {
    "id": "FaIBmnXCknPl"
   },
   "source": [
    "About the Dataset:\n",
    "\n",
    "1. id: unique id for a news article\n",
    "2. title: the title of a news article\n",
    "3. author: author of the news article\n",
    "4. text: the text of the article; could be incomplete\n",
    "5. label: a label that marks whether the news article is real or fake:\n",
    "           1: Fake news\n",
    "           0: real News\n",
    "\n",
    "\n",
    "\n"
   ]
  },
  {
   "cell_type": "markdown",
   "metadata": {
    "id": "k399dHafvL5N"
   },
   "source": [
    "Importing the Dependencies"
   ]
  },
  {
   "cell_type": "code",
   "execution_count": 1,
   "metadata": {
    "id": "-fetC5yqkPVe"
   },
   "outputs": [],
   "source": [
    "import numpy as np\n",
    "import pandas as pd\n",
    "import re\n",
    "from nltk.corpus import stopwords\n",
    "from nltk.stem import WordNetLemmatizer\n",
    "from sklearn.feature_extraction.text import TfidfVectorizer\n",
    "from sklearn.model_selection import train_test_split\n",
    "from sklearn.ensemble import RandomForestClassifier\n",
    "from sklearn.metrics import accuracy_score\n",
    "import joblib\n",
    "import nltk"
   ]
  },
  {
   "cell_type": "code",
   "execution_count": null,
   "metadata": {},
   "outputs": [],
   "source": [
    "# Download the 'stopwords' dataset, which contains a list of common stop words\n",
    "# Stop words are words like 'the', 'and', 'is', etc., that are often filtered out in text processing tasks as they carry less meaningful information.\n",
    "nltk.download('stopwords')\n",
    "\n",
    "# Download the 'wordnet' lexical database, which is useful for finding synonyms, defining words, and other linguistic tasks. \n",
    "# WordNet can help improve text processing by providing a semantic understanding of words and their relationships.\n",
    "nltk.download('wordnet')"
   ]
  },
  {
   "cell_type": "markdown",
   "metadata": {
    "id": "NjeGd1CLw_6R"
   },
   "source": [
    "Data Pre-processing"
   ]
  },
  {
   "cell_type": "code",
   "execution_count": 3,
   "metadata": {
    "id": "nCGcpu_1wzLw"
   },
   "outputs": [],
   "source": [
    "# loading the dataset to a pandas DataFrame\n",
    "news_dataset = pd.read_csv(r'dataset\\train.csv' , encoding='unicode_escape')"
   ]
  },
  {
   "cell_type": "code",
   "execution_count": 4,
   "metadata": {
    "colab": {
     "base_uri": "https://localhost:8080/"
    },
    "id": "aRgmbYSbxV4-",
    "outputId": "82bafe4f-211d-47b8-f4ed-a61b77370bc0"
   },
   "outputs": [
    {
     "data": {
      "text/plain": [
       "(20800, 5)"
      ]
     },
     "execution_count": 4,
     "metadata": {},
     "output_type": "execute_result"
    }
   ],
   "source": [
    "news_dataset.shape"
   ]
  },
  {
   "cell_type": "code",
   "execution_count": 5,
   "metadata": {
    "colab": {
     "base_uri": "https://localhost:8080/",
     "height": 198
    },
    "id": "jjJ1eB6RxZaS",
    "outputId": "9bb0c756-30e5-4919-a8e0-a688127261eb"
   },
   "outputs": [
    {
     "data": {
      "text/html": [
       "<div>\n",
       "<style scoped>\n",
       "    .dataframe tbody tr th:only-of-type {\n",
       "        vertical-align: middle;\n",
       "    }\n",
       "\n",
       "    .dataframe tbody tr th {\n",
       "        vertical-align: top;\n",
       "    }\n",
       "\n",
       "    .dataframe thead th {\n",
       "        text-align: right;\n",
       "    }\n",
       "</style>\n",
       "<table border=\"1\" class=\"dataframe\">\n",
       "  <thead>\n",
       "    <tr style=\"text-align: right;\">\n",
       "      <th></th>\n",
       "      <th>id</th>\n",
       "      <th>title</th>\n",
       "      <th>author</th>\n",
       "      <th>text</th>\n",
       "      <th>label</th>\n",
       "    </tr>\n",
       "  </thead>\n",
       "  <tbody>\n",
       "    <tr>\n",
       "      <th>0</th>\n",
       "      <td>0</td>\n",
       "      <td>House Dem Aide: We Didnât Even See Comeyâs...</td>\n",
       "      <td>Darrell Lucus</td>\n",
       "      <td>House Dem Aide: We Didnât Even See Comeyâs...</td>\n",
       "      <td>1</td>\n",
       "    </tr>\n",
       "    <tr>\n",
       "      <th>1</th>\n",
       "      <td>1</td>\n",
       "      <td>FLYNN: Hillary Clinton, Big Woman on Campus - ...</td>\n",
       "      <td>Daniel J. Flynn</td>\n",
       "      <td>Ever get the feeling your life circles the rou...</td>\n",
       "      <td>0</td>\n",
       "    </tr>\n",
       "    <tr>\n",
       "      <th>2</th>\n",
       "      <td>2</td>\n",
       "      <td>Why the Truth Might Get You Fired</td>\n",
       "      <td>Consortiumnews.com</td>\n",
       "      <td>Why the Truth Might Get You Fired October 29, ...</td>\n",
       "      <td>1</td>\n",
       "    </tr>\n",
       "    <tr>\n",
       "      <th>3</th>\n",
       "      <td>3</td>\n",
       "      <td>15 Civilians Killed In Single US Airstrike Hav...</td>\n",
       "      <td>Jessica Purkiss</td>\n",
       "      <td>Videos 15 Civilians Killed In Single US Airstr...</td>\n",
       "      <td>1</td>\n",
       "    </tr>\n",
       "    <tr>\n",
       "      <th>4</th>\n",
       "      <td>4</td>\n",
       "      <td>Iranian woman jailed for fictional unpublished...</td>\n",
       "      <td>Howard Portnoy</td>\n",
       "      <td>Print \\nAn Iranian woman has been sentenced to...</td>\n",
       "      <td>1</td>\n",
       "    </tr>\n",
       "  </tbody>\n",
       "</table>\n",
       "</div>"
      ],
      "text/plain": [
       "   id                                              title              author  \\\n",
       "0   0  House Dem Aide: We Didnât Even See Comeyâs...       Darrell Lucus   \n",
       "1   1  FLYNN: Hillary Clinton, Big Woman on Campus - ...     Daniel J. Flynn   \n",
       "2   2                  Why the Truth Might Get You Fired  Consortiumnews.com   \n",
       "3   3  15 Civilians Killed In Single US Airstrike Hav...     Jessica Purkiss   \n",
       "4   4  Iranian woman jailed for fictional unpublished...      Howard Portnoy   \n",
       "\n",
       "                                                text  label  \n",
       "0  House Dem Aide: We Didnât Even See Comeyâs...      1  \n",
       "1  Ever get the feeling your life circles the rou...      0  \n",
       "2  Why the Truth Might Get You Fired October 29, ...      1  \n",
       "3  Videos 15 Civilians Killed In Single US Airstr...      1  \n",
       "4  Print \\nAn Iranian woman has been sentenced to...      1  "
      ]
     },
     "execution_count": 5,
     "metadata": {},
     "output_type": "execute_result"
    }
   ],
   "source": [
    "# print the first 5 rows of the dataframe\n",
    "news_dataset.head()"
   ]
  },
  {
   "cell_type": "code",
   "execution_count": 6,
   "metadata": {
    "colab": {
     "base_uri": "https://localhost:8080/"
    },
    "id": "QYkDi4SwxlKi",
    "outputId": "204c4b11-2d09-4c3e-ff1f-4ee9d3c5bc92"
   },
   "outputs": [
    {
     "data": {
      "text/plain": [
       "id           0\n",
       "title      558\n",
       "author    1957\n",
       "text        39\n",
       "label        0\n",
       "dtype: int64"
      ]
     },
     "execution_count": 6,
     "metadata": {},
     "output_type": "execute_result"
    }
   ],
   "source": [
    "# counting the number of missing values in the dataset\n",
    "news_dataset.isnull().sum()"
   ]
  },
  {
   "cell_type": "code",
   "execution_count": 7,
   "metadata": {
    "id": "Mc04lQrhx57m"
   },
   "outputs": [],
   "source": [
    "# Replace NaN values with empty strings\n",
    "news_dataset = news_dataset.fillna('')\n",
    "\n",
    "# Concatenate author, title, and text into 'content'\n",
    "news_dataset['content'] = news_dataset['author'] + ' ' + news_dataset['title'] + ' ' + news_dataset['text']"
   ]
  },
  {
   "cell_type": "code",
   "execution_count": 8,
   "metadata": {},
   "outputs": [],
   "source": [
    "# Function for cleaning text\n",
    "def clean_text(content):\n",
    "    content = re.sub(r'[^\\x00-\\x7F]+', '', content) # Remove non-ASCII characters\n",
    "    content = re.sub(r'\\s+', ' ', content).strip()  # Replace multiple whitespace with a single space and trim leading/trailing spaces.\n",
    "    return content # Return cleaned text"
   ]
  },
  {
   "cell_type": "code",
   "execution_count": 9,
   "metadata": {},
   "outputs": [],
   "source": [
    "news_dataset['content'] = news_dataset['content'].apply(clean_text) # Apply the clean_text function to each entry in the 'content' column."
   ]
  },
  {
   "cell_type": "markdown",
   "metadata": {},
   "source": [
    "Lemmatization:\n",
    "\n",
    "Lemmatization is the process of reducing a word to its base or dictionary form, considering its context and part of speech.\n",
    "\n",
    "Example: better, best → good"
   ]
  },
  {
   "cell_type": "code",
   "execution_count": 10,
   "metadata": {},
   "outputs": [],
   "source": [
    "# Function for lemmatization\n",
    "lemmatizer = WordNetLemmatizer() # Initialize the lemmatizer\n",
    "stop_words = set(stopwords.words('english')) # Create a set of English stopwords\n",
    "def lemmatize(content): \n",
    "    content = re.sub('[^a-zA-Z]', ' ', content) # Remove any characters that are not letters and replace them with a space\n",
    "    content = content.lower() # Convert the content to lowercase\n",
    "    content = content.split() # Split the content into individual words\n",
    "    content = [lemmatizer.lemmatize(word) for word in content if word not in stop_words]  # Lemmatize each word and filter out stopwords\n",
    "    return ' '.join(content)  # Join the lemmatized words back into a single string and return"
   ]
  },
  {
   "cell_type": "code",
   "execution_count": 11,
   "metadata": {},
   "outputs": [],
   "source": [
    "news_dataset['content'] = news_dataset['content'].apply(lemmatize) # Apply the lemmatization function to the 'content' column of the news_dataset "
   ]
  },
  {
   "cell_type": "code",
   "execution_count": 12,
   "metadata": {
    "colab": {
     "base_uri": "https://localhost:8080/"
    },
    "id": "cbF6GBBpzBey",
    "outputId": "f7776d4b-ab23-468c-8aa7-2ecbb67d7487"
   },
   "outputs": [
    {
     "name": "stdout",
     "output_type": "stream",
     "text": [
      "0        darrell lucus house dem aide didnt even see co...\n",
      "1        daniel j flynn flynn hillary clinton big woman...\n",
      "2        consortiumnews com truth might get fired truth...\n",
      "3        jessica purkiss civilian killed single u airst...\n",
      "4        howard portnoy iranian woman jailed fictional ...\n",
      "                               ...                        \n",
      "20795    jerome hudson rapper trump poster child white ...\n",
      "20796    benjamin hoffman n f l playoff schedule matchu...\n",
      "20797    michael j de la merced rachel abrams macys sai...\n",
      "20798    alex ansary nato russia hold parallel exercise...\n",
      "20799    david swanson keep f alive david swanson autho...\n",
      "Name: content, Length: 20800, dtype: object\n"
     ]
    }
   ],
   "source": [
    "print(news_dataset['content'])"
   ]
  },
  {
   "cell_type": "code",
   "execution_count": 13,
   "metadata": {
    "id": "LfBtAvLtzEo6"
   },
   "outputs": [],
   "source": [
    "# Step 4: Separating the Data and Labels\n",
    "X = news_dataset['content'].values\n",
    "Y = news_dataset['label'].values"
   ]
  },
  {
   "cell_type": "code",
   "execution_count": 14,
   "metadata": {
    "colab": {
     "base_uri": "https://localhost:8080/"
    },
    "id": "oHPBr540zl1h",
    "outputId": "45a8b684-6d35-43d4-f24f-8a8a091b69ad"
   },
   "outputs": [
    {
     "name": "stdout",
     "output_type": "stream",
     "text": [
      "['darrell lucus house dem aide didnt even see comeys letter jason chaffetz tweeted house dem aide didnt even see comeys letter jason chaffetz tweeted darrell lucus october subscribe jason chaffetz stump american fork utah image courtesy michael jolley available creative common license apology keith olbermann doubt worst person world weekfbi director james comey according house democratic aide look like also know second worst person well turn comey sent infamous letter announcing fbi looking email may related hillary clinton email server ranking democrat relevant committee didnt hear comey found via tweet one republican committee chairman know comey notified republican chairman democratic ranking member house intelligence judiciary oversight committee agency reviewing email recently discovered order see contained classified information long letter went oversight committee chairman jason chaffetz set political world ablaze tweet fbi dir informed fbi learned existence email appear pertinent investigation case reopened jason chaffetz jasoninthehouse october course know case comey actually saying reviewing email light unrelated casewhich know anthony weiners sexting teenager apparently little thing fact didnt matter chaffetz utah republican already vowed initiate raft investigation hillary winsat least two year worth possibly entire term worth apparently chaffetz thought fbi already work himresulting tweet briefly roiled nation cooler head realized dud according senior house democratic aide misreading letter may least chaffetz sin aide told shareblue bos democrat didnt even know comeys letter timeand found checked twitter democratic ranking member relevant committee didnt receive comeys letter republican chairman fact democratic ranking member receive chairman oversight government reform committee jason chaffetz tweeted made public let see weve got right fbi director tell chaffetz gop committee chairman major development potentially politically explosive investigation neither chaffetz colleague courtesy let democratic counterpart know instead according aide made find twitter already talk daily ko comey provided advance notice letter chaffetz republican giving time turn spin machine may make good theater nothing far even suggests case nothing far suggests comey anything grossly incompetent tone deaf suggest however chaffetz acting way make dan burton darrell issa look like model responsibility bipartisanship didnt even decency notify ranking member elijah cummings something explosive doesnt trample basic standard fairness dont know granted likely chaffetz answer sits ridiculously republican district anchored provo orem cook partisan voting index r gave mitt romney punishing percent vote moreover republican house leadership given full support chaffetz planned fishing expedition doesnt mean cant turn hot light textbook example house become republican control also second worst person world darrell lucus darrell something graduate university north carolina considers journalist old school attempt turn member religious right college succeeded turning religious right worst nightmare charismatic christian unapologetic liberal desire stand scared silence increased survived abusive three year marriage may know daily ko christian dem nc follow twitter darrelllucus connect facebook click buy darrell mello yello connect'\n",
      " 'daniel j flynn flynn hillary clinton big woman campus breitbart ever get feeling life circle roundabout rather head straight line toward intended destination hillary clinton remains big woman campus leafy liberal wellesley massachusetts everywhere else vote likely inauguration dress remainder day way miss havisham forever wore wedding dress speaking great expectation hillary rodham overflowed year ago first addressed wellesley graduating class president college informed gathered student needed debate far could ascertain spokesman kind like democratic primary minus term unknown even seven sister school glad miss adam made clear speaking today u u miss rodham told classmate appointing edger bergen charlie mccarthy mortimer snerds attendance bespectacled granny glass awarding matronly wisdom least john lennon wisdom took issue previous speaker despite becoming first win election seat u senate since reconstruction edward brooke came criticism calling empathy goal protestors criticized tactic though clinton senior thesis saul alinsky lamented black power demagogue elitist arrogance repressive intolerance within new left similar word coming republican necessitated brief rebuttal trust rodham ironically observed one word asked class rehearsal wanted say everyone came said talk trust talk lack trust u way feel others talk trust bust say say feeling permeates generation perhaps even understood distrusted trust bust certainly busted clinton plan certainly even understand people distrusted whitewater travelgate vast conspiracy benghazi missing email clinton found distrusted voice friday load compromising road broadening political horizon distrust american people trump edged percent percent question immediately prior november election stood major reason closing horizon clinton described vanquisher supporter embracing lie con alternative fact assault truth reason failed explain american people chose lie truth history major among today know well people power invent fact attack question mark beginning end free society offered hyperbole like many people emerge hillary clinton embarked upon long strange trip high school goldwater girl wellesley college republican president democratic politician clinton drank time place gave degree significantly went idealist cynic comparison two wellesley commencement address show way back lamented long leader viewed politics art possible challenge practice politics art making appears impossible possible big woman campus odd woman white house wonder current station even possible arent point ahead asked september may asks isnt president woman famously dubbed congenital liar bill safire concludes lie mind getting stood election day like finding jilted bride wedding day inspires dangerous delusion'\n",
      " 'consortiumnews com truth might get fired truth might get fired october tension intelligence analyst political policymakers always honest assessment desired result latter often overwhelming former iraq war writes lawrence davidson lawrence davidson might wonder foreign policy maker repeatedly make bad choice insight might drawn following analysis action play united state lesson probably universal back early spring george w bush initiated invasion iraq one key public reason claim country dictator saddam hussein verge developing nuclear weapon hiding weapon mass destruction real reason went beyond charge included long range plan regime change middle east president george w bush vice president dick cheney receive oval office briefing cia director george tenet also present chief staff andy card right white house photo purpose concentrate belief iraq become hostile nuclear power president bush close associate accept scenario readily short answer bush wanted indeed needed believe rationale invading iraq first tried connect saddam hussein attack u though never gave stratagem lack evidence made difficult rally american people already fixated afghanistan support war baghdad nuclear weapon gambit proved fruitful hard evidence charge supposedly reliable witness person exiled anti saddam iraqi many u government payroll kept telling bush adviser nuclear story true u leadership cadre whose worldview literally demanded mortally dangerous iraq informant order precipitate overthrow saddam willing tell tale pending atomic weapon strong desire believe tale nuclear iraq lowered threshold proof likewise repeated assertion assumed dependable iraqi source underpinned nationwide u campaign generating fear war fever u ally insisted united nation send weapon inspector scour iraq evidence nuclear weapon program well chemical biological weapon inspector could find convincing evidence frustrated bush administration soon forced hand march bush launched invasion iraq expectation occupation country u inspector would surely find evidence nuke least stockpile chemical biological weapon iraqi informant systematically lied social behavioral science rescue various u intelligence agency thoroughly shaken affair today year later director manager still trying sort specifically tell getting true intelligence lied one intelligence worker put need help protect u army snake oil salesman end cia et al market academic assistance ahmed chalabi head iraqi national congress key supplier iraqi defector bogus story hidden wmd partnership forged office director national intelligence odni serf coordinating center sixteen independent u intelligence agency national academy science engineering medicine result collaboration permanent intelligence community study board coordinate program social behavioral science research might strengthen national security despite effort almost certain social behavioral science cannot give spy agency want way detecting lie better present standard procedure polygraph test interrogation even could might well make difference real problem found liar found believer believer simply true odni leader seem assert u intelligence agency personnel cannot tell often lied case thousand middle echelon intelligence worker desk officer specialist know something closely approaching truth know pretty well going place like afghanistan iraq syria libya israel palestine elsewhere director national intelligence james clapper right talk president barack obama oval office john brennan national security aide present photo credit office director national intelligence therefore someone feed snake oil usually know however accurate grasp thing often avail superior got appointment accepting pre structured worldview different criterion true analyst listen charles gaukel national intelligence council yet another organization act meeting ground intelligence agency referring search way avoid getting taken lie gaukel declared looking truth particularly looking truth work might mean certainly tell mean historically mean power broker truth must match fit worldview political ideological precept fit work intelligence specialist send usually accurate assessment line policy maker often hit roadblock caused group think ideological blinker know better attitude hand long youre selling leadership match want believe peddle anything imaginary iraqi nuke israel western style democracy saudi arabia indispensable ally libya liberated country bashar al assad real roadblock peace syria strategic defense initiative sdi aka star war world getting colder warmer american exceptionalism glory list almost endless sad tale tell u want spend million dollar social behavioral science research improve assessment use intelligence forget liar want look antidote narrow mindedness believer policymakers seem able rise ideological presumption class presumption underpin self confidence lead u slippery slope happened way often many place source shakespeare determination past prelude elite play destiny free capacity break structured way seeing yet middle echelon specialist keep sending relatively accurate assessment ladder power hope spring eternal'\n",
      " ...\n",
      " 'michael j de la merced rachel abrams macys said receive takeover approach hudson bay new york time macys today grew union several great name american retailing including namesake chain bloomingdales marshall field ambitious owner saks fifth avenue broached idea taking union even combining macys create department store juggernaut time industry reeling hudson bay company canadian owner saks approached macys potential takeover people briefed matter authorized speak publicly said friday talk two company early stage may still fall apart lead partnership kind rather sale unclear whether deal happen combination could lift fortune macys country biggest department store struggling investor certainly appeared see way share macys rose much percent friday biggest intraday gain since aug according data bloomberg retail titan macys struggled remain relevant discount retailer decimated traditional business last month macys announced plan cut job close store terry lundgren chief executive architect macys last big merger expected step end march succeeded company president jeffrey gennette since recession shopper grown accustomed hunt bargain pay full price discount store outlet mall flourished traditional store compelled respond trimming price cut margin department store hit especially hard particularly shopper migrate away mall emerged analyst say virtual race bottom particularly difficult macys born series merger past two decade made juggernaut industry stalwart middle tier retail company neither advantage retailer like hm store addition macys face increasingly fierce competition online site like amazon elsewhere macys trouble drawn attention prominent activist hedge fund starboard value urged company generate cash selling real estate beneath store starboard held percent macys share sept previously estimated value land billion friday analyst citigroup estimated macys holding could worth least billion macys market value comparison billion friday morning macys taken step sell redevelop store last year added expert real estate transaction board company largely resisted ambitious effort divest real estate including deal company sell underlying land beneath store rent back company suitor hudson bay company far smaller market value billion canadian dollar billion known bold step hudson bay company assembled growing empire includes hudson bay department store chain lord taylor crown jewel saks governor executive chairman hudson bay company richard baker shown little fear using debt november company borrowed nearly billion saks flagship midtown manhattan spoken often retailer need highlight value real estate financing bid macys may trickier however carry billion debt may mean hudson bay company bring partner borrow real estate holding spokesman hudson bay company declined comment talk reported earlier wall street journal comment rumor speculation representative macys said representative starboard value respond request comment analyst said saw merit potential combination particularly given macys operational woe mr baker expertise wringing money real estate clear logic despite disparity cap macys hudson bay company craig johnson president customer growth partner research firm said note referring macys stock ticker symbol added retail market changing faster able keep whether flight mall migration online'\n",
      " 'alex ansary nato russia hold parallel exercise balkan nato russia hold parallel exercise balkan press tv russia military nato force holding parallel military exercise two neighboring balkan country russian troop participate war game serbia nato conducting military drill montenegro medium reported monday russian force day military exercise serbia named slavic brotherhood begin wednesday include russian paratrooper air force staffer three transport plane unspecified number troop serbia belarus russia defense ministry said five day nato drill montenegro started monday involves responding flood chemical attack involve unarmed personnel seven nato country partner state past serbia montenegro constitutional republic socialist federal republic yugoslavia country socialist republic traditional russian christian orthodox ally state union formed serbia montenegro two became independent state since split two balkan neighbor seem headed different direction strategically montenegro taken pro western stance awarded nato offer join northern atlantic alliance nato invitation montenegro met strong opposition russia meanwhile montenegrin official accused russia staging alleged coup october topple pro western government nato accession bid serbia nato partner held exercise western alliance large one foreign troop equipment participating soil'\n",
      " 'david swanson keep f alive david swanson author activist journalist radio host nobel peace prize nominee director worldbeyondwar com campaign coordinator rootsaction org host talk nation radio talk nation radio vt radio syndicated pacifica network show also air wtju charlottesville va wcsx detroit mi kghi westport wa whus storrs ct wprr grand rapid mi krfp lp moscow id kzgm cabool mo kmud garberville ca wazu peoria il wxrd crown point geneva radio geneva ny kkrn round mountain ca kskq lp ashland wuow lp oneonta ny lie radio pinole ca wyap lp clay wv detour johnson city tn wzrd chicago il weft champaign il wxpi pittsburgh pa wdrt viroqua wi veracity online liberty justice radio shirley ithaca community radio ithaca ny wmcb greenfield prx org kaos fm olympia wa wusb fm stony brook ny wool fm bellow fall vermont wslr lp sarasota florida also blog davidswanson org warisacrime org prolific author latest book war lie daybreak undoing imperial presidency forming perfect union world outlawed war swanson hold master degree philosophy university virginia worked newspaper reporter communication director job including press secretary dennis kucinich presidential campaign medium coordinator international labor communication association three year communication coordinator acorn association community organization reform read full complete biography davidswanson org also visit book site war crime keep f alive david swanson october petition stop f going global david swanson imagine local business town invented brand new tool intended almost magical effect thousand mile away however tool kept used locally became area unsafe child child got near tool tended increased blood pressure increased stress hormone lower reading skill poorer memory impaired auditory speech perception impaired academic performance u would find situation least little concerning unless new invention designed murder lot people itd fine imagine new tool ruined neighborhood people couldnt safely live near imagine government compensate people kick living near location tool think might find troubling mass murder mission imagine also tool fairly frequently explodes emitting highly toxic chemical particle fiber unsafe breathe air mile around normally thatd problem tool needed killing lot people well work flaw wont new gadget expected cost least year money taken away numerous expense beneficial economy world trillion drained economy causing loss job radical diminuition resource education healthcare housing environmental protection humanitarian aid wouldnt worry case mean case ability kill ton human being wasnt stake product even working perfectly leading destroyer earth natural environment high tech toy wasnt even designed expected wasnt even able designed amazingly even shortcoming matter long intention massive murder destruction forgiven tool im describing called f rootsaction org find new petition launched locally minded people acting globally place f intended based also link youll find explanation tool ive decribing f petition directed united state congress government australia italy netherlands norway turkey united kingdom israel japan south korea world people burlington vermont fairbanks alaska f based effort initiated vermont stop f coalition save sky vermont western maine matter alaska peace center university alaska fairbanks peace club north star chapter veteran peace world beyond war rootsaction org code pink ben cohen petition read f weapon offensive war serving defensive purpose planned cost u trillion year starvation earth could ended billion lack clean drinking water billion per year first foremost wasting resource airplane kill military spending contrary popular misconception also hurt u economy see economy f cause negative health impact cognitive impairment child living near base render housing near airport unsuitable residential use high crash rate horrible consequence living area crash emission major environmental polluter war endangering united state participating nation rather protecting nonviolent tool law diplomacy aid crisis prevention verifiable nuclear disarmament substituted continuing counterproductive war therefore undersigned call immediate cancellation f program whole immediate cancellation plan base dangerous noisy jet near populated area oppose replacing f weapon basing f location demand redirection money f back taxpayer pocket environmental human need u f customer nation around world including fight climate change pay student debt rebuild crumbling infrastructure improve education healthcare housing add name david swanson author activist journalist radio host director worldbeyondwar org campaign coordinator rootsaction org swanson book include war lie blog davidswanson org warisacrime org host talk nation radio nobel peace prize nominee follow twitter davidcnswanson facebook help support davidswanson org warisacrime org talknationradio org clicking http davidswanson org donate']\n",
      "[1 0 1 ... 0 1 1]\n"
     ]
    }
   ],
   "source": [
    "print(X)\n",
    "print(Y)"
   ]
  },
  {
   "cell_type": "code",
   "execution_count": 15,
   "metadata": {
    "colab": {
     "base_uri": "https://localhost:8080/"
    },
    "id": "xmwK-zyO5Stg",
    "outputId": "61de12b9-b9fa-486f-8c91-a5aec48d7fe6"
   },
   "outputs": [
    {
     "name": "stdout",
     "output_type": "stream",
     "text": [
      "0        darrell lucus house dem aide didnt even see co...\n",
      "1        daniel j flynn flynn hillary clinton big woman...\n",
      "2        consortiumnews com truth might get fired truth...\n",
      "3        jessica purkiss civilian killed single u airst...\n",
      "4        howard portnoy iranian woman jailed fictional ...\n",
      "                               ...                        \n",
      "20795    jerome hudson rapper trump poster child white ...\n",
      "20796    benjamin hoffman n f l playoff schedule matchu...\n",
      "20797    michael j de la merced rachel abrams macys sai...\n",
      "20798    alex ansary nato russia hold parallel exercise...\n",
      "20799    david swanson keep f alive david swanson autho...\n",
      "Name: content, Length: 20800, dtype: object\n"
     ]
    }
   ],
   "source": [
    "print(news_dataset['content'])"
   ]
  },
  {
   "cell_type": "code",
   "execution_count": 16,
   "metadata": {
    "colab": {
     "base_uri": "https://localhost:8080/"
    },
    "id": "Iu2ZEBkL6QTm",
    "outputId": "cbb35faa-bd75-4fee-a2ba-f85f874fe068"
   },
   "outputs": [
    {
     "data": {
      "text/plain": [
       "(20800,)"
      ]
     },
     "execution_count": 16,
     "metadata": {},
     "output_type": "execute_result"
    }
   ],
   "source": [
    "Y.shape"
   ]
  },
  {
   "cell_type": "markdown",
   "metadata": {},
   "source": [
    "CONVERTING THE TEXTUAL DATA TO NUMERICAL DATA/FEATURE VECTOR\n",
    "\n",
    "1)tf (term freequency):-which counts the number of time a perticular words is repearting in a documents.\n",
    "2)idf (inverse document freequency):-Measure the word is a rare word or common word in a document"
   ]
  },
  {
   "cell_type": "code",
   "execution_count": 17,
   "metadata": {
    "id": "BMfepsQZ6TES"
   },
   "outputs": [],
   "source": [
    "#Converting Textual Data to Numerical Data\n",
    "vectorizer = TfidfVectorizer(max_df=0.7, min_df=5, stop_words='english') \n",
    "X = vectorizer.fit_transform(X)"
   ]
  },
  {
   "cell_type": "code",
   "execution_count": 18,
   "metadata": {
    "colab": {
     "base_uri": "https://localhost:8080/"
    },
    "id": "MJj5esbs7Nzy",
    "outputId": "381f4859-7593-474e-a827-f1f4de5bd894"
   },
   "outputs": [
    {
     "name": "stdout",
     "output_type": "stream",
     "text": [
      "  (0, 8518)\t0.2614664537670539\n",
      "  (0, 21031)\t0.15024953295253837\n",
      "  (0, 16788)\t0.09862915172747089\n",
      "  (0, 9015)\t0.1062301855032697\n",
      "  (0, 775)\t0.14020015141322165\n",
      "  (0, 9587)\t0.12411822877467002\n",
      "  (0, 6628)\t0.12385470266716889\n",
      "  (0, 20391)\t0.174301874815182\n",
      "  (0, 18840)\t0.16965956677877497\n",
      "  (0, 5540)\t0.6011837103550017\n",
      "  (0, 36782)\t0.08594403117510611\n",
      "  (0, 24637)\t0.035222170020158115\n",
      "  (0, 34428)\t0.03035152048786258\n",
      "  (0, 34340)\t0.038999296478856915\n",
      "  (0, 1195)\t0.011912482627209809\n",
      "  (0, 13752)\t0.04106812519488518\n",
      "  (0, 37804)\t0.06604583670568329\n",
      "  (0, 17262)\t0.020406112698087\n",
      "  (0, 7758)\t0.06373993714233822\n",
      "  (0, 22416)\t0.019499884864808043\n",
      "  (0, 2428)\t0.021321107446251528\n",
      "  (0, 7899)\t0.02817810566552832\n",
      "  (0, 6706)\t0.020228081997562344\n",
      "  (0, 20499)\t0.02792710633227959\n",
      "  (0, 1628)\t0.03189278749130583\n",
      "  :\t:\n",
      "  (20799, 38487)\t0.08249704443395182\n",
      "  (20799, 20992)\t0.20395706504484448\n",
      "  (20799, 26098)\t0.044889930613211455\n",
      "  (20799, 2022)\t0.04726440817112628\n",
      "  (20799, 6167)\t0.0347358782489955\n",
      "  (20799, 39524)\t0.04656290876681339\n",
      "  (20799, 35993)\t0.04443282140520443\n",
      "  (20799, 5577)\t0.04807422980143998\n",
      "  (20799, 32212)\t0.03896160404985471\n",
      "  (20799, 18688)\t0.09188828487966204\n",
      "  (20799, 13566)\t0.11834064574283433\n",
      "  (20799, 24782)\t0.04656290876681339\n",
      "  (20799, 34121)\t0.04124852221697591\n",
      "  (20799, 3213)\t0.04326054973749748\n",
      "  (20799, 8561)\t0.2100934752073329\n",
      "  (20799, 38627)\t0.14422268940431993\n",
      "  (20799, 315)\t0.042921500370577854\n",
      "  (20799, 7722)\t0.03615583277487425\n",
      "  (20799, 38075)\t0.03810782030663536\n",
      "  (20799, 26952)\t0.039446881914278115\n",
      "  (20799, 35642)\t0.04260301244609026\n",
      "  (20799, 37572)\t0.04260301244609026\n",
      "  (20799, 11393)\t0.040576957035163945\n",
      "  (20799, 29108)\t0.04594414243983102\n",
      "  (20799, 37116)\t0.04656290876681339\n"
     ]
    }
   ],
   "source": [
    "print(X)"
   ]
  },
  {
   "cell_type": "markdown",
   "metadata": {
    "id": "mKBRGiSQ7YCZ"
   },
   "source": [
    "Splitting the dataset to training & test data"
   ]
  },
  {
   "cell_type": "code",
   "execution_count": 19,
   "metadata": {
    "id": "VjMYwmBo7Pbx"
   },
   "outputs": [],
   "source": [
    "X_train, X_test, Y_train, Y_test = train_test_split(X, Y, test_size = 0.2, stratify=Y, random_state=2)"
   ]
  },
  {
   "cell_type": "markdown",
   "metadata": {},
   "source": [
    "Training the Model: Random Forest "
   ]
  },
  {
   "cell_type": "code",
   "execution_count": 20,
   "metadata": {
    "id": "HrSItcqc7qAy"
   },
   "outputs": [],
   "source": [
    "# n_estimators: Specifies the number of trees in the forest\n",
    "# A higher number can improve accuracy but may increase training time\n",
    "# n_estimators=100 Using 100 decision trees in the ensemble\n",
    "# random_state=2 Sets a seed for reproducibility of results\n",
    "model = RandomForestClassifier(n_estimators=100, random_state=2)"
   ]
  },
  {
   "cell_type": "code",
   "execution_count": 21,
   "metadata": {
    "colab": {
     "base_uri": "https://localhost:8080/"
    },
    "id": "fdVJ839l8Vgx",
    "outputId": "129fab6a-f9d5-4ef8-eecf-93206f1e1e41"
   },
   "outputs": [
    {
     "data": {
      "text/html": [
       "<style>#sk-container-id-1 {\n",
       "  /* Definition of color scheme common for light and dark mode */\n",
       "  --sklearn-color-text: black;\n",
       "  --sklearn-color-line: gray;\n",
       "  /* Definition of color scheme for unfitted estimators */\n",
       "  --sklearn-color-unfitted-level-0: #fff5e6;\n",
       "  --sklearn-color-unfitted-level-1: #f6e4d2;\n",
       "  --sklearn-color-unfitted-level-2: #ffe0b3;\n",
       "  --sklearn-color-unfitted-level-3: chocolate;\n",
       "  /* Definition of color scheme for fitted estimators */\n",
       "  --sklearn-color-fitted-level-0: #f0f8ff;\n",
       "  --sklearn-color-fitted-level-1: #d4ebff;\n",
       "  --sklearn-color-fitted-level-2: #b3dbfd;\n",
       "  --sklearn-color-fitted-level-3: cornflowerblue;\n",
       "\n",
       "  /* Specific color for light theme */\n",
       "  --sklearn-color-text-on-default-background: var(--sg-text-color, var(--theme-code-foreground, var(--jp-content-font-color1, black)));\n",
       "  --sklearn-color-background: var(--sg-background-color, var(--theme-background, var(--jp-layout-color0, white)));\n",
       "  --sklearn-color-border-box: var(--sg-text-color, var(--theme-code-foreground, var(--jp-content-font-color1, black)));\n",
       "  --sklearn-color-icon: #696969;\n",
       "\n",
       "  @media (prefers-color-scheme: dark) {\n",
       "    /* Redefinition of color scheme for dark theme */\n",
       "    --sklearn-color-text-on-default-background: var(--sg-text-color, var(--theme-code-foreground, var(--jp-content-font-color1, white)));\n",
       "    --sklearn-color-background: var(--sg-background-color, var(--theme-background, var(--jp-layout-color0, #111)));\n",
       "    --sklearn-color-border-box: var(--sg-text-color, var(--theme-code-foreground, var(--jp-content-font-color1, white)));\n",
       "    --sklearn-color-icon: #878787;\n",
       "  }\n",
       "}\n",
       "\n",
       "#sk-container-id-1 {\n",
       "  color: var(--sklearn-color-text);\n",
       "}\n",
       "\n",
       "#sk-container-id-1 pre {\n",
       "  padding: 0;\n",
       "}\n",
       "\n",
       "#sk-container-id-1 input.sk-hidden--visually {\n",
       "  border: 0;\n",
       "  clip: rect(1px 1px 1px 1px);\n",
       "  clip: rect(1px, 1px, 1px, 1px);\n",
       "  height: 1px;\n",
       "  margin: -1px;\n",
       "  overflow: hidden;\n",
       "  padding: 0;\n",
       "  position: absolute;\n",
       "  width: 1px;\n",
       "}\n",
       "\n",
       "#sk-container-id-1 div.sk-dashed-wrapped {\n",
       "  border: 1px dashed var(--sklearn-color-line);\n",
       "  margin: 0 0.4em 0.5em 0.4em;\n",
       "  box-sizing: border-box;\n",
       "  padding-bottom: 0.4em;\n",
       "  background-color: var(--sklearn-color-background);\n",
       "}\n",
       "\n",
       "#sk-container-id-1 div.sk-container {\n",
       "  /* jupyter's `normalize.less` sets `[hidden] { display: none; }`\n",
       "     but bootstrap.min.css set `[hidden] { display: none !important; }`\n",
       "     so we also need the `!important` here to be able to override the\n",
       "     default hidden behavior on the sphinx rendered scikit-learn.org.\n",
       "     See: https://github.com/scikit-learn/scikit-learn/issues/21755 */\n",
       "  display: inline-block !important;\n",
       "  position: relative;\n",
       "}\n",
       "\n",
       "#sk-container-id-1 div.sk-text-repr-fallback {\n",
       "  display: none;\n",
       "}\n",
       "\n",
       "div.sk-parallel-item,\n",
       "div.sk-serial,\n",
       "div.sk-item {\n",
       "  /* draw centered vertical line to link estimators */\n",
       "  background-image: linear-gradient(var(--sklearn-color-text-on-default-background), var(--sklearn-color-text-on-default-background));\n",
       "  background-size: 2px 100%;\n",
       "  background-repeat: no-repeat;\n",
       "  background-position: center center;\n",
       "}\n",
       "\n",
       "/* Parallel-specific style estimator block */\n",
       "\n",
       "#sk-container-id-1 div.sk-parallel-item::after {\n",
       "  content: \"\";\n",
       "  width: 100%;\n",
       "  border-bottom: 2px solid var(--sklearn-color-text-on-default-background);\n",
       "  flex-grow: 1;\n",
       "}\n",
       "\n",
       "#sk-container-id-1 div.sk-parallel {\n",
       "  display: flex;\n",
       "  align-items: stretch;\n",
       "  justify-content: center;\n",
       "  background-color: var(--sklearn-color-background);\n",
       "  position: relative;\n",
       "}\n",
       "\n",
       "#sk-container-id-1 div.sk-parallel-item {\n",
       "  display: flex;\n",
       "  flex-direction: column;\n",
       "}\n",
       "\n",
       "#sk-container-id-1 div.sk-parallel-item:first-child::after {\n",
       "  align-self: flex-end;\n",
       "  width: 50%;\n",
       "}\n",
       "\n",
       "#sk-container-id-1 div.sk-parallel-item:last-child::after {\n",
       "  align-self: flex-start;\n",
       "  width: 50%;\n",
       "}\n",
       "\n",
       "#sk-container-id-1 div.sk-parallel-item:only-child::after {\n",
       "  width: 0;\n",
       "}\n",
       "\n",
       "/* Serial-specific style estimator block */\n",
       "\n",
       "#sk-container-id-1 div.sk-serial {\n",
       "  display: flex;\n",
       "  flex-direction: column;\n",
       "  align-items: center;\n",
       "  background-color: var(--sklearn-color-background);\n",
       "  padding-right: 1em;\n",
       "  padding-left: 1em;\n",
       "}\n",
       "\n",
       "\n",
       "/* Toggleable style: style used for estimator/Pipeline/ColumnTransformer box that is\n",
       "clickable and can be expanded/collapsed.\n",
       "- Pipeline and ColumnTransformer use this feature and define the default style\n",
       "- Estimators will overwrite some part of the style using the `sk-estimator` class\n",
       "*/\n",
       "\n",
       "/* Pipeline and ColumnTransformer style (default) */\n",
       "\n",
       "#sk-container-id-1 div.sk-toggleable {\n",
       "  /* Default theme specific background. It is overwritten whether we have a\n",
       "  specific estimator or a Pipeline/ColumnTransformer */\n",
       "  background-color: var(--sklearn-color-background);\n",
       "}\n",
       "\n",
       "/* Toggleable label */\n",
       "#sk-container-id-1 label.sk-toggleable__label {\n",
       "  cursor: pointer;\n",
       "  display: block;\n",
       "  width: 100%;\n",
       "  margin-bottom: 0;\n",
       "  padding: 0.5em;\n",
       "  box-sizing: border-box;\n",
       "  text-align: center;\n",
       "}\n",
       "\n",
       "#sk-container-id-1 label.sk-toggleable__label-arrow:before {\n",
       "  /* Arrow on the left of the label */\n",
       "  content: \"▸\";\n",
       "  float: left;\n",
       "  margin-right: 0.25em;\n",
       "  color: var(--sklearn-color-icon);\n",
       "}\n",
       "\n",
       "#sk-container-id-1 label.sk-toggleable__label-arrow:hover:before {\n",
       "  color: var(--sklearn-color-text);\n",
       "}\n",
       "\n",
       "/* Toggleable content - dropdown */\n",
       "\n",
       "#sk-container-id-1 div.sk-toggleable__content {\n",
       "  max-height: 0;\n",
       "  max-width: 0;\n",
       "  overflow: hidden;\n",
       "  text-align: left;\n",
       "  /* unfitted */\n",
       "  background-color: var(--sklearn-color-unfitted-level-0);\n",
       "}\n",
       "\n",
       "#sk-container-id-1 div.sk-toggleable__content.fitted {\n",
       "  /* fitted */\n",
       "  background-color: var(--sklearn-color-fitted-level-0);\n",
       "}\n",
       "\n",
       "#sk-container-id-1 div.sk-toggleable__content pre {\n",
       "  margin: 0.2em;\n",
       "  border-radius: 0.25em;\n",
       "  color: var(--sklearn-color-text);\n",
       "  /* unfitted */\n",
       "  background-color: var(--sklearn-color-unfitted-level-0);\n",
       "}\n",
       "\n",
       "#sk-container-id-1 div.sk-toggleable__content.fitted pre {\n",
       "  /* unfitted */\n",
       "  background-color: var(--sklearn-color-fitted-level-0);\n",
       "}\n",
       "\n",
       "#sk-container-id-1 input.sk-toggleable__control:checked~div.sk-toggleable__content {\n",
       "  /* Expand drop-down */\n",
       "  max-height: 200px;\n",
       "  max-width: 100%;\n",
       "  overflow: auto;\n",
       "}\n",
       "\n",
       "#sk-container-id-1 input.sk-toggleable__control:checked~label.sk-toggleable__label-arrow:before {\n",
       "  content: \"▾\";\n",
       "}\n",
       "\n",
       "/* Pipeline/ColumnTransformer-specific style */\n",
       "\n",
       "#sk-container-id-1 div.sk-label input.sk-toggleable__control:checked~label.sk-toggleable__label {\n",
       "  color: var(--sklearn-color-text);\n",
       "  background-color: var(--sklearn-color-unfitted-level-2);\n",
       "}\n",
       "\n",
       "#sk-container-id-1 div.sk-label.fitted input.sk-toggleable__control:checked~label.sk-toggleable__label {\n",
       "  background-color: var(--sklearn-color-fitted-level-2);\n",
       "}\n",
       "\n",
       "/* Estimator-specific style */\n",
       "\n",
       "/* Colorize estimator box */\n",
       "#sk-container-id-1 div.sk-estimator input.sk-toggleable__control:checked~label.sk-toggleable__label {\n",
       "  /* unfitted */\n",
       "  background-color: var(--sklearn-color-unfitted-level-2);\n",
       "}\n",
       "\n",
       "#sk-container-id-1 div.sk-estimator.fitted input.sk-toggleable__control:checked~label.sk-toggleable__label {\n",
       "  /* fitted */\n",
       "  background-color: var(--sklearn-color-fitted-level-2);\n",
       "}\n",
       "\n",
       "#sk-container-id-1 div.sk-label label.sk-toggleable__label,\n",
       "#sk-container-id-1 div.sk-label label {\n",
       "  /* The background is the default theme color */\n",
       "  color: var(--sklearn-color-text-on-default-background);\n",
       "}\n",
       "\n",
       "/* On hover, darken the color of the background */\n",
       "#sk-container-id-1 div.sk-label:hover label.sk-toggleable__label {\n",
       "  color: var(--sklearn-color-text);\n",
       "  background-color: var(--sklearn-color-unfitted-level-2);\n",
       "}\n",
       "\n",
       "/* Label box, darken color on hover, fitted */\n",
       "#sk-container-id-1 div.sk-label.fitted:hover label.sk-toggleable__label.fitted {\n",
       "  color: var(--sklearn-color-text);\n",
       "  background-color: var(--sklearn-color-fitted-level-2);\n",
       "}\n",
       "\n",
       "/* Estimator label */\n",
       "\n",
       "#sk-container-id-1 div.sk-label label {\n",
       "  font-family: monospace;\n",
       "  font-weight: bold;\n",
       "  display: inline-block;\n",
       "  line-height: 1.2em;\n",
       "}\n",
       "\n",
       "#sk-container-id-1 div.sk-label-container {\n",
       "  text-align: center;\n",
       "}\n",
       "\n",
       "/* Estimator-specific */\n",
       "#sk-container-id-1 div.sk-estimator {\n",
       "  font-family: monospace;\n",
       "  border: 1px dotted var(--sklearn-color-border-box);\n",
       "  border-radius: 0.25em;\n",
       "  box-sizing: border-box;\n",
       "  margin-bottom: 0.5em;\n",
       "  /* unfitted */\n",
       "  background-color: var(--sklearn-color-unfitted-level-0);\n",
       "}\n",
       "\n",
       "#sk-container-id-1 div.sk-estimator.fitted {\n",
       "  /* fitted */\n",
       "  background-color: var(--sklearn-color-fitted-level-0);\n",
       "}\n",
       "\n",
       "/* on hover */\n",
       "#sk-container-id-1 div.sk-estimator:hover {\n",
       "  /* unfitted */\n",
       "  background-color: var(--sklearn-color-unfitted-level-2);\n",
       "}\n",
       "\n",
       "#sk-container-id-1 div.sk-estimator.fitted:hover {\n",
       "  /* fitted */\n",
       "  background-color: var(--sklearn-color-fitted-level-2);\n",
       "}\n",
       "\n",
       "/* Specification for estimator info (e.g. \"i\" and \"?\") */\n",
       "\n",
       "/* Common style for \"i\" and \"?\" */\n",
       "\n",
       ".sk-estimator-doc-link,\n",
       "a:link.sk-estimator-doc-link,\n",
       "a:visited.sk-estimator-doc-link {\n",
       "  float: right;\n",
       "  font-size: smaller;\n",
       "  line-height: 1em;\n",
       "  font-family: monospace;\n",
       "  background-color: var(--sklearn-color-background);\n",
       "  border-radius: 1em;\n",
       "  height: 1em;\n",
       "  width: 1em;\n",
       "  text-decoration: none !important;\n",
       "  margin-left: 1ex;\n",
       "  /* unfitted */\n",
       "  border: var(--sklearn-color-unfitted-level-1) 1pt solid;\n",
       "  color: var(--sklearn-color-unfitted-level-1);\n",
       "}\n",
       "\n",
       ".sk-estimator-doc-link.fitted,\n",
       "a:link.sk-estimator-doc-link.fitted,\n",
       "a:visited.sk-estimator-doc-link.fitted {\n",
       "  /* fitted */\n",
       "  border: var(--sklearn-color-fitted-level-1) 1pt solid;\n",
       "  color: var(--sklearn-color-fitted-level-1);\n",
       "}\n",
       "\n",
       "/* On hover */\n",
       "div.sk-estimator:hover .sk-estimator-doc-link:hover,\n",
       ".sk-estimator-doc-link:hover,\n",
       "div.sk-label-container:hover .sk-estimator-doc-link:hover,\n",
       ".sk-estimator-doc-link:hover {\n",
       "  /* unfitted */\n",
       "  background-color: var(--sklearn-color-unfitted-level-3);\n",
       "  color: var(--sklearn-color-background);\n",
       "  text-decoration: none;\n",
       "}\n",
       "\n",
       "div.sk-estimator.fitted:hover .sk-estimator-doc-link.fitted:hover,\n",
       ".sk-estimator-doc-link.fitted:hover,\n",
       "div.sk-label-container:hover .sk-estimator-doc-link.fitted:hover,\n",
       ".sk-estimator-doc-link.fitted:hover {\n",
       "  /* fitted */\n",
       "  background-color: var(--sklearn-color-fitted-level-3);\n",
       "  color: var(--sklearn-color-background);\n",
       "  text-decoration: none;\n",
       "}\n",
       "\n",
       "/* Span, style for the box shown on hovering the info icon */\n",
       ".sk-estimator-doc-link span {\n",
       "  display: none;\n",
       "  z-index: 9999;\n",
       "  position: relative;\n",
       "  font-weight: normal;\n",
       "  right: .2ex;\n",
       "  padding: .5ex;\n",
       "  margin: .5ex;\n",
       "  width: min-content;\n",
       "  min-width: 20ex;\n",
       "  max-width: 50ex;\n",
       "  color: var(--sklearn-color-text);\n",
       "  box-shadow: 2pt 2pt 4pt #999;\n",
       "  /* unfitted */\n",
       "  background: var(--sklearn-color-unfitted-level-0);\n",
       "  border: .5pt solid var(--sklearn-color-unfitted-level-3);\n",
       "}\n",
       "\n",
       ".sk-estimator-doc-link.fitted span {\n",
       "  /* fitted */\n",
       "  background: var(--sklearn-color-fitted-level-0);\n",
       "  border: var(--sklearn-color-fitted-level-3);\n",
       "}\n",
       "\n",
       ".sk-estimator-doc-link:hover span {\n",
       "  display: block;\n",
       "}\n",
       "\n",
       "/* \"?\"-specific style due to the `<a>` HTML tag */\n",
       "\n",
       "#sk-container-id-1 a.estimator_doc_link {\n",
       "  float: right;\n",
       "  font-size: 1rem;\n",
       "  line-height: 1em;\n",
       "  font-family: monospace;\n",
       "  background-color: var(--sklearn-color-background);\n",
       "  border-radius: 1rem;\n",
       "  height: 1rem;\n",
       "  width: 1rem;\n",
       "  text-decoration: none;\n",
       "  /* unfitted */\n",
       "  color: var(--sklearn-color-unfitted-level-1);\n",
       "  border: var(--sklearn-color-unfitted-level-1) 1pt solid;\n",
       "}\n",
       "\n",
       "#sk-container-id-1 a.estimator_doc_link.fitted {\n",
       "  /* fitted */\n",
       "  border: var(--sklearn-color-fitted-level-1) 1pt solid;\n",
       "  color: var(--sklearn-color-fitted-level-1);\n",
       "}\n",
       "\n",
       "/* On hover */\n",
       "#sk-container-id-1 a.estimator_doc_link:hover {\n",
       "  /* unfitted */\n",
       "  background-color: var(--sklearn-color-unfitted-level-3);\n",
       "  color: var(--sklearn-color-background);\n",
       "  text-decoration: none;\n",
       "}\n",
       "\n",
       "#sk-container-id-1 a.estimator_doc_link.fitted:hover {\n",
       "  /* fitted */\n",
       "  background-color: var(--sklearn-color-fitted-level-3);\n",
       "}\n",
       "</style><div id=\"sk-container-id-1\" class=\"sk-top-container\"><div class=\"sk-text-repr-fallback\"><pre>RandomForestClassifier(random_state=2)</pre><b>In a Jupyter environment, please rerun this cell to show the HTML representation or trust the notebook. <br />On GitHub, the HTML representation is unable to render, please try loading this page with nbviewer.org.</b></div><div class=\"sk-container\" hidden><div class=\"sk-item\"><div class=\"sk-estimator fitted sk-toggleable\"><input class=\"sk-toggleable__control sk-hidden--visually\" id=\"sk-estimator-id-1\" type=\"checkbox\" checked><label for=\"sk-estimator-id-1\" class=\"sk-toggleable__label fitted sk-toggleable__label-arrow fitted\">&nbsp;&nbsp;RandomForestClassifier<a class=\"sk-estimator-doc-link fitted\" rel=\"noreferrer\" target=\"_blank\" href=\"https://scikit-learn.org/1.5/modules/generated/sklearn.ensemble.RandomForestClassifier.html\">?<span>Documentation for RandomForestClassifier</span></a><span class=\"sk-estimator-doc-link fitted\">i<span>Fitted</span></span></label><div class=\"sk-toggleable__content fitted\"><pre>RandomForestClassifier(random_state=2)</pre></div> </div></div></div></div>"
      ],
      "text/plain": [
       "RandomForestClassifier(random_state=2)"
      ]
     },
     "execution_count": 21,
     "metadata": {},
     "output_type": "execute_result"
    }
   ],
   "source": [
    "model.fit(X_train, Y_train)"
   ]
  },
  {
   "cell_type": "markdown",
   "metadata": {
    "id": "sbPKIFT89W1C"
   },
   "source": [
    "Evaluation"
   ]
  },
  {
   "cell_type": "markdown",
   "metadata": {
    "id": "YG6gqVty9ZDB"
   },
   "source": [
    "accuracy score"
   ]
  },
  {
   "cell_type": "code",
   "execution_count": 22,
   "metadata": {
    "id": "VgwtWZY59PBw"
   },
   "outputs": [],
   "source": [
    "# accuracy score on the training data\n",
    "X_train_prediction = model.predict(X_train)\n",
    "training_data_accuracy = accuracy_score(X_train_prediction, Y_train)"
   ]
  },
  {
   "cell_type": "code",
   "execution_count": 23,
   "metadata": {
    "colab": {
     "base_uri": "https://localhost:8080/"
    },
    "id": "4L-r5mld-BFn",
    "outputId": "c662ccad-b5be-4f0c-e087-f8785e1a9141"
   },
   "outputs": [
    {
     "name": "stdout",
     "output_type": "stream",
     "text": [
      "Accuracy score of the training data :  1.0\n"
     ]
    }
   ],
   "source": [
    "print('Accuracy score of the training data : ', training_data_accuracy)"
   ]
  },
  {
   "cell_type": "code",
   "execution_count": 24,
   "metadata": {
    "id": "Kgcn13oO-H6e"
   },
   "outputs": [],
   "source": [
    "# accuracy score on the test data\n",
    "X_test_prediction = model.predict(X_test)\n",
    "test_data_accuracy = accuracy_score(X_test_prediction, Y_test)"
   ]
  },
  {
   "cell_type": "code",
   "execution_count": 25,
   "metadata": {
    "colab": {
     "base_uri": "https://localhost:8080/"
    },
    "id": "9TG0Yof1-vg2",
    "outputId": "db5ab627-52bf-487c-df79-8d94647ffbe3"
   },
   "outputs": [
    {
     "name": "stdout",
     "output_type": "stream",
     "text": [
      "Accuracy score of the test data :  0.9490384615384615\n"
     ]
    }
   ],
   "source": [
    "print('Accuracy score of the test data : ', test_data_accuracy)"
   ]
  },
  {
   "cell_type": "code",
   "execution_count": 26,
   "metadata": {},
   "outputs": [
    {
     "data": {
      "text/plain": [
       "['tfidf_vectorizer.pkl']"
      ]
     },
     "execution_count": 26,
     "metadata": {},
     "output_type": "execute_result"
    }
   ],
   "source": [
    "#Save the model and vectorizer\n",
    "joblib.dump(model, 'random_forest_model.sav')\n",
    "joblib.dump(vectorizer, 'tfidf_vectorizer.pkl')"
   ]
  },
  {
   "cell_type": "markdown",
   "metadata": {
    "id": "Yun4seaE-6tV"
   },
   "source": [
    "Making a Predictive System"
   ]
  },
  {
   "cell_type": "code",
   "execution_count": 27,
   "metadata": {
    "colab": {
     "base_uri": "https://localhost:8080/"
    },
    "id": "lPjssDL_-zo8",
    "outputId": "b8bcac5b-bab1-426c-ad89-d4791b411e31"
   },
   "outputs": [
    {
     "name": "stdout",
     "output_type": "stream",
     "text": [
      "[0]\n",
      "The news is Real\n"
     ]
    }
   ],
   "source": [
    "X_new = X_test[3]\n",
    "\n",
    "prediction = model.predict(X_new)\n",
    "print(prediction)\n",
    "\n",
    "if (prediction[0]==0):\n",
    "  print('The news is Real')\n",
    "else:\n",
    "  print('The news is Fake')"
   ]
  },
  {
   "cell_type": "code",
   "execution_count": 28,
   "metadata": {
    "colab": {
     "base_uri": "https://localhost:8080/"
    },
    "id": "8KaWdvDI_eUk",
    "outputId": "49cf7c89-08b0-4ce3-8510-82efa7447d54"
   },
   "outputs": [
    {
     "name": "stdout",
     "output_type": "stream",
     "text": [
      "0\n"
     ]
    }
   ],
   "source": [
    "print(Y_test[3])"
   ]
  }
 ],
 "metadata": {
  "colab": {
   "provenance": []
  },
  "kernelspec": {
   "display_name": "Python 3 (ipykernel)",
   "language": "python",
   "name": "python3"
  },
  "language_info": {
   "codemirror_mode": {
    "name": "ipython",
    "version": 3
   },
   "file_extension": ".py",
   "mimetype": "text/x-python",
   "name": "python",
   "nbconvert_exporter": "python",
   "pygments_lexer": "ipython3",
   "version": "3.12.4"
  }
 },
 "nbformat": 4,
 "nbformat_minor": 4
}
